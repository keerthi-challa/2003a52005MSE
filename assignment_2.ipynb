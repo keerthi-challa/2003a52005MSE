{
  "nbformat": 4,
  "nbformat_minor": 0,
  "metadata": {
    "colab": {
      "name": "assignment 2.ipynb",
      "provenance": [],
      "collapsed_sections": []
    },
    "kernelspec": {
      "name": "python3",
      "display_name": "Python 3"
    },
    "language_info": {
      "name": "python"
    }
  },
  "cells": [
    {
      "cell_type": "code",
      "metadata": {
        "colab": {
          "base_uri": "https://localhost:8080/"
        },
        "id": "Of4ODt-omVu5",
        "outputId": "0c3e52be-65fd-4c1e-f3e2-42e2246874f4"
      },
      "source": [
        "import numpy as np\n",
        "x1=[3.2,3.2,3.7,3.9,4,4,4.1,4.5,4.9,5.1,5.3,5.9,6]\n",
        "y=[54445,64445,57189,63218,55794,56957,57081,61111,67938,66029,83088,81363,93940]\n",
        "yp=[]\n",
        "e=[]\n",
        "m=[1235,1500,1850,2000]\n",
        "c=[1900,1950,2000,2100]\n",
        "def linear(m,c):\n",
        "  sum=0\n",
        "  for i in range(0,len(x1)):\n",
        "    yp.append(m*x1[i]+c)\n",
        "    g=(y[i]-yp[i])**2\n",
        "    sum=sum+g\n",
        "    e.append(g)\n",
        "    print('Mean square error is :',np.mod(sum,len(x1)))\n",
        "    sum=0    \n",
        "for i in range(0,1):\n",
        "   linear(m[i],c[i])"
      ],
      "execution_count": 1,
      "outputs": [
        {
          "output_type": "stream",
          "name": "stdout",
          "text": [
            "Mean square error is : 1.0\n",
            "Mean square error is : 4.0\n",
            "Mean square error is : 3.25\n",
            "Mean square error is : 12.25\n",
            "Mean square error is : 3\n",
            "Mean square error is : 4\n",
            "Mean square error is : 6.25\n",
            "Mean square error is : 6.25\n",
            "Mean square error is : 7.25\n",
            "Mean square error is : 3.25\n",
            "Mean square error is : 12.25\n",
            "Mean square error is : 0.25\n",
            "Mean square error is : 0\n"
          ]
        }
      ]
    }
  ]
}